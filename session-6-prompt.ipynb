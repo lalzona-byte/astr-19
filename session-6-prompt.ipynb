{
 "cells": [
  {
   "cell_type": "code",
   "execution_count": 1,
   "id": "2066af96-f932-4db5-9a25-8b4a989b236f",
   "metadata": {},
   "outputs": [],
   "source": [
    "import numpy as np "
   ]
  },
  {
   "cell_type": "markdown",
   "id": "3914ce07-f643-4463-a648-dda54f423ef1",
   "metadata": {},
   "source": [
    "### The function sine(x) is defined to return as sin(x) using the Numpy library. "
   ]
  },
  {
   "cell_type": "code",
   "execution_count": 2,
   "id": "7ffee4e3-2b2f-492d-a309-23ea8ba799fc",
   "metadata": {},
   "outputs": [],
   "source": [
    "def sine(x):\n",
    "    return np.sin(x)"
   ]
  },
  {
   "cell_type": "markdown",
   "id": "5909b776-52f9-4650-8a95-dd61f84d1821",
   "metadata": {},
   "source": [
    "### This function cosine(x) is defined to return as cos(x), also using Nunmpy. "
   ]
  },
  {
   "cell_type": "code",
   "execution_count": 3,
   "id": "925c0610-e3b6-434f-8cd3-3987e0e77c1b",
   "metadata": {},
   "outputs": [],
   "source": [
    "def cosine(x):\n",
    "    return np.cos(x)"
   ]
  },
  {
   "cell_type": "markdown",
   "id": "e2fd6408-e44e-45a9-9006-cc8db199b40d",
   "metadata": {},
   "source": [
    "### This next function creates an array of x values, x being from 0 to 2pi in 1000 evenly spaced values, and also using the previously defined functions of sine and cosine. "
   ]
  },
  {
   "cell_type": "code",
   "execution_count": 4,
   "id": "d9e8aa1a-d6b1-4972-99ac-cb9ae56ed2ed",
   "metadata": {},
   "outputs": [],
   "source": [
    "x_entries = np.linspace(0,2*np.pi, 1000) \n",
    "\n",
    "sin_values = sine(x_entries)\n",
    "cos_values = cosine(x_entries)"
   ]
  },
  {
   "cell_type": "markdown",
   "id": "68bb3333-bdf4-4c9c-818e-a624932f4a10",
   "metadata": {},
   "source": [
    "### This last cell will create a loop where it prints the first 10 values of the previous cell of x, sin(x), and cos(x). "
   ]
  },
  {
   "cell_type": "code",
   "execution_count": 7,
   "id": "8c5e1535-1d2b-45e2-b713-f3b0932cfe65",
   "metadata": {},
   "outputs": [
    {
     "name": "stdout",
     "output_type": "stream",
     "text": [
      "0.006289 0.006289 1.000000\n",
      "0.006289 0.006289 0.999980\n",
      "0.006289 0.006289 0.999921\n",
      "0.006289 0.006289 0.999822\n",
      "0.006289 0.006289 0.999684\n",
      "0.006289 0.006289 0.999506\n",
      "0.006289 0.006289 0.999288\n",
      "0.006289 0.006289 0.999031\n",
      "0.006289 0.006289 0.998734\n",
      "0.006289 0.006289 0.998398\n"
     ]
    }
   ],
   "source": [
    "for i in range (10): \n",
    "    print(f\"{x_entries[1]:f} {sin_values[1]:f} {cos_values[i]:f}\")"
   ]
  },
  {
   "cell_type": "code",
   "execution_count": null,
   "id": "8cf38ffa-94ba-4022-a437-1e74a4519671",
   "metadata": {},
   "outputs": [],
   "source": []
  }
 ],
 "metadata": {
  "kernelspec": {
   "display_name": "Python 3 (ipykernel)",
   "language": "python",
   "name": "python3"
  },
  "language_info": {
   "codemirror_mode": {
    "name": "ipython",
    "version": 3
   },
   "file_extension": ".py",
   "mimetype": "text/x-python",
   "name": "python",
   "nbconvert_exporter": "python",
   "pygments_lexer": "ipython3",
   "version": "3.13.7"
  }
 },
 "nbformat": 4,
 "nbformat_minor": 5
}
